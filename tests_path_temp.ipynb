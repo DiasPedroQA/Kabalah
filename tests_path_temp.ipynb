{
 "cells": [
  {
   "cell_type": "code",
   "execution_count": 6,
   "metadata": {},
   "outputs": [],
   "source": [
    "import os\n",
    "import logging"
   ]
  },
  {
   "cell_type": "code",
   "execution_count": 7,
   "metadata": {},
   "outputs": [],
   "source": [
    "# Configuração básica do logger\n",
    "logging.basicConfig(level=logging.INFO, format='%(message)s')"
   ]
  },
  {
   "cell_type": "code",
   "execution_count": 8,
   "metadata": {},
   "outputs": [],
   "source": [
    "def validar_string(valor):\n",
    "    \"\"\"Valida se o valor é uma string e retorna a mensagem apropriada.\"\"\"\n",
    "    if valor is None:\n",
    "        return \"O valor é None (null).\"\n",
    "    elif isinstance(valor, str):\n",
    "        if valor.strip() == \"\":\n",
    "            return \"O valor é uma string vazia.\"\n",
    "        elif any(char in valor for char in ['?', '*', ':', '<', '>', '|']):\n",
    "            return f\"O valor é um caminho inválido: '{valor}'. Contém caracteres inválidos.\"\n",
    "        else:\n",
    "            return None\n",
    "    return f\"O valor é do tipo {type(valor).__name__}, que não é suportado para análise.\""
   ]
  },
  {
   "cell_type": "code",
   "execution_count": 9,
   "metadata": {},
   "outputs": [],
   "source": [
    "def validar_caminho(valor):\n",
    "    \"\"\"Valida se o valor é um caminho absoluto ou relativo e retorna a mensagem apropriada.\"\"\"\n",
    "    if os.path.isabs(valor):\n",
    "        if os.path.exists(valor):\n",
    "            return f\"O valor é um caminho absoluto válido: '{valor}'.\"\n",
    "        else:\n",
    "            return f\"O valor é um caminho absoluto inválido: '{valor}'. Não existe.\"\n",
    "    else:\n",
    "        if os.path.exists(valor):\n",
    "            return f\"O valor é um caminho relativo válido: '{valor}'.\"\n",
    "        else:\n",
    "            return f\"O valor é um caminho relativo inválido: '{valor}'. Não existe.\""
   ]
  },
  {
   "cell_type": "code",
   "execution_count": 10,
   "metadata": {},
   "outputs": [],
   "source": [
    "def analisar_lista(lista):\n",
    "    \"\"\"Analisa cada item da lista e retorna os resultados das validações.\"\"\"\n",
    "    resultados = []\n",
    "    for item in lista:\n",
    "        item_tipo = type(item).__name__\n",
    "        if item is None or (isinstance(item, str) and item.strip() == \"\"):\n",
    "            resultados.append(f\"O valor '{item}' é inválido.\")\n",
    "        elif isinstance(item, str):\n",
    "            invalid_message = validar_string(item)\n",
    "            if invalid_message:\n",
    "                resultados.append(invalid_message)\n",
    "            else:\n",
    "                resultados.append(validar_caminho(item))\n",
    "        else:\n",
    "            resultados.append(f\"O valor '{item}' (tipo: {item_tipo}) é inválido.\")\n",
    "    return resultados"
   ]
  },
  {
   "cell_type": "code",
   "execution_count": 11,
   "metadata": {},
   "outputs": [],
   "source": [
    "def analisar_caminho(dados):\n",
    "    \"\"\"Analisador de caminhos baseado em dicionário.\"\"\"\n",
    "    resultados = []\n",
    "    \n",
    "    for key, valor in dados.items():\n",
    "        if isinstance(valor, list):\n",
    "            resultados.extend(analisar_lista(valor))\n",
    "        else:\n",
    "            invalid_message = validar_string(valor)\n",
    "            if invalid_message:\n",
    "                resultados.append(invalid_message)\n",
    "            else:\n",
    "                resultados.append(validar_caminho(valor))\n",
    "\n",
    "    return resultados"
   ]
  },
  {
   "cell_type": "code",
   "execution_count": 12,
   "metadata": {},
   "outputs": [],
   "source": [
    "# Exemplo de uso\n",
    "entradas = [\n",
    "    {\"testar_caminho\": None},\n",
    "    {\"testar_caminho\": \"\"},\n",
    "    {\"testar_caminho\": \"   \"},\n",
    "    {\"testar_caminho\": \"Olá, mundo!\"},\n",
    "    {\"testar_caminho\": 42},\n",
    "    {\"testar_caminho\": 3.14},\n",
    "    {\"testar_caminho\": [1, 2, 3]},\n",
    "    {\"testar_caminho\": {\"chave1\": \"valor1\"}},\n",
    "    {\"testar_caminho\": True},\n",
    "    {\"testar_caminho\": False},\n",
    "    {\"testar_caminho\": [None, True, 0, 12.34]},\n",
    "    {\"testar_caminho\": [\"string1\", \"string2\"]},\n",
    "    {\"testar_caminho\": [\"   \", \"valido\"]},\n",
    "    {\"testar_caminho\": \"/usr/local/bin\"},\n",
    "    {\"testar_caminho\": \"home/user/docs\"},\n",
    "    {\"testar_caminho\": \"./temp\"},\n",
    "    {\"testar_caminho\": \"../images/logo.png\"},\n",
    "    {\"testar_caminho\": \"/invalid/path/too/deep/\"},\n",
    "    {\"testar_caminho\": \"invalid/path/?\"},\n",
    "    {\"testar_caminho\": \"/nonexistent_folder/\"},\n",
    "    {\"testar_caminho\": \"/etc/./hosts\"},\n",
    "    {\"testar_caminho\": \"/../var/log/syslog\"},\n",
    "    {\"testar_caminho\": [\"home/user/docs\", \"/etc\"]},\n",
    "    {\"testar_caminho\": [\"\", \"/usr/bin\"]},\n",
    "    {\"testar_caminho\": [\"valid/path\", \"invalid/path/?\"]}\n",
    "]"
   ]
  },
  {
   "cell_type": "code",
   "execution_count": null,
   "metadata": {},
   "outputs": [],
   "source": [
    "for entrada in entradas:\n",
    "    resultados = analisar_caminho(entrada)\n",
    "    for resultado in resultados:\n",
    "        logging.info(resultado)"
   ]
  }
 ],
 "metadata": {
  "kernelspec": {
   "display_name": ".venv",
   "language": "python",
   "name": "python3"
  },
  "language_info": {
   "codemirror_mode": {
    "name": "ipython",
    "version": 3
   },
   "file_extension": ".py",
   "mimetype": "text/x-python",
   "name": "python",
   "nbconvert_exporter": "python",
   "pygments_lexer": "ipython3",
   "version": "3.12.3"
  }
 },
 "nbformat": 4,
 "nbformat_minor": 2
}
